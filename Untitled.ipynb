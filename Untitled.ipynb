{
 "cells": [
  {
   "cell_type": "code",
   "execution_count": 3,
   "metadata": {},
   "outputs": [],
   "source": [
    "from telegram.ext import Updater, CommandHandler\n",
    "from telegram.ext import MessageHandler, Filters\n",
    "import telegram"
   ]
  },
  {
   "cell_type": "code",
   "execution_count": 4,
   "metadata": {},
   "outputs": [],
   "source": [
    "bot=telegram.Bot(token='1647991895:AAGqPjhkOSbsuSdycrLrikffs7kiR2-JTzM')\n",
    "updater = Updater(token='1647991895:AAGqPjhkOSbsuSdycrLrikffs7kiR2-JTzM')\n",
    "GREETING_INPUTS = (\"hello\", \"hi\", \"greetings\", \"sup\", \"what's up\",\"hey\",\"assalamualaikum\", \"robosp\", \"help\",\"assalamu'alaikum\")\n",
    "GREETING_RESPONSES = [\"hi\", \"hey\", \"hi there\", \"hello\", \"I am glad! You are talking to me\",\"waalaikum salam\",\"ya?\"]\n",
    "closing_inputs = (\"terimakasih\",\"thank you\",\"thankyou\",\"thanks\",\"terimakasih robosp\",\"terimakasih banyak\",\"terimakasih banyak robosp\")\n",
    "closing_response=[\"sama-sama\",\"you're welcome\",\"no problem\",\"ok\"]\n",
    "user = []"
   ]
  },
  {
   "cell_type": "code",
   "execution_count": 5,
   "metadata": {},
   "outputs": [],
   "source": [
    "def start(bot,update):\n",
    "    bot.sendMessage(chat_id=update.message.chat_id, text=\"halo, nama saya toby, saya adalah bot ewfs, saya bertugas untuk memberitahukan anda terkait forecasting instance apabila mendekati threshold\")\n",
    "    bot.sendMessage(chat_id=update.message.chat_id, text=\"kamu dapat bergabung dengan saya, caranya yaitu mengirimkan /join ke saya\")\n",
    "    "
   ]
  },
  {
   "cell_type": "code",
   "execution_count": 6,
   "metadata": {},
   "outputs": [],
   "source": [
    "def join(bot, update):\n",
    "    user.append(update.message.chat_id)\n",
    "    print(user)"
   ]
  },
  {
   "cell_type": "code",
   "execution_count": 7,
   "metadata": {},
   "outputs": [
    {
     "name": "stderr",
     "output_type": "stream",
     "text": [
      "Error while getting Updates: Conflict: terminated by other getUpdates request; make sure that only one bot instance is running\n",
      "No error handlers are registered, logging exception.\n",
      "Traceback (most recent call last):\n",
      "  File \"/usr/local/lib/python3.7/dist-packages/telegram/ext/updater.py\", line 465, in _network_loop_retry\n",
      "    if not action_cb():\n",
      "  File \"/usr/local/lib/python3.7/dist-packages/telegram/ext/updater.py\", line 420, in polling_action_cb\n",
      "    allowed_updates=allowed_updates,\n",
      "  File \"<decorator-gen-147>\", line 2, in get_updates\n",
      "  File \"/usr/local/lib/python3.7/dist-packages/telegram/bot.py\", line 135, in decorator\n",
      "    result = func(*args, **kwargs)\n",
      "  File \"/usr/local/lib/python3.7/dist-packages/telegram/bot.py\", line 2639, in get_updates\n",
      "    'getUpdates', data, timeout=float(read_latency) + float(timeout), api_kwargs=api_kwargs\n",
      "  File \"/usr/local/lib/python3.7/dist-packages/telegram/bot.py\", line 245, in _post\n",
      "    return self.request.post(f'{self.base_url}/{endpoint}', data=data, timeout=timeout)\n",
      "  File \"/usr/local/lib/python3.7/dist-packages/telegram/utils/request.py\", line 354, in post\n",
      "    **urlopen_kwargs,\n",
      "  File \"/usr/local/lib/python3.7/dist-packages/telegram/utils/request.py\", line 276, in _request_wrapper\n",
      "    raise Conflict(message)\n",
      "telegram.error.Conflict: Conflict: terminated by other getUpdates request; make sure that only one bot instance is running\n",
      "Error while getting Updates: Conflict: terminated by other getUpdates request; make sure that only one bot instance is running\n",
      "No error handlers are registered, logging exception.\n",
      "Traceback (most recent call last):\n",
      "  File \"/usr/local/lib/python3.7/dist-packages/telegram/ext/updater.py\", line 465, in _network_loop_retry\n",
      "    if not action_cb():\n",
      "  File \"/usr/local/lib/python3.7/dist-packages/telegram/ext/updater.py\", line 420, in polling_action_cb\n",
      "    allowed_updates=allowed_updates,\n",
      "  File \"<decorator-gen-147>\", line 2, in get_updates\n",
      "  File \"/usr/local/lib/python3.7/dist-packages/telegram/bot.py\", line 135, in decorator\n",
      "    result = func(*args, **kwargs)\n",
      "  File \"/usr/local/lib/python3.7/dist-packages/telegram/bot.py\", line 2639, in get_updates\n",
      "    'getUpdates', data, timeout=float(read_latency) + float(timeout), api_kwargs=api_kwargs\n",
      "  File \"/usr/local/lib/python3.7/dist-packages/telegram/bot.py\", line 245, in _post\n",
      "    return self.request.post(f'{self.base_url}/{endpoint}', data=data, timeout=timeout)\n",
      "  File \"/usr/local/lib/python3.7/dist-packages/telegram/utils/request.py\", line 354, in post\n",
      "    **urlopen_kwargs,\n",
      "  File \"/usr/local/lib/python3.7/dist-packages/telegram/utils/request.py\", line 276, in _request_wrapper\n",
      "    raise Conflict(message)\n",
      "telegram.error.Conflict: Conflict: terminated by other getUpdates request; make sure that only one bot instance is running\n",
      "Error while getting Updates: Conflict: terminated by other getUpdates request; make sure that only one bot instance is running\n",
      "No error handlers are registered, logging exception.\n",
      "Traceback (most recent call last):\n",
      "  File \"/usr/local/lib/python3.7/dist-packages/telegram/ext/updater.py\", line 465, in _network_loop_retry\n",
      "    if not action_cb():\n",
      "  File \"/usr/local/lib/python3.7/dist-packages/telegram/ext/updater.py\", line 420, in polling_action_cb\n",
      "    allowed_updates=allowed_updates,\n",
      "  File \"<decorator-gen-147>\", line 2, in get_updates\n",
      "  File \"/usr/local/lib/python3.7/dist-packages/telegram/bot.py\", line 135, in decorator\n",
      "    result = func(*args, **kwargs)\n",
      "  File \"/usr/local/lib/python3.7/dist-packages/telegram/bot.py\", line 2639, in get_updates\n",
      "    'getUpdates', data, timeout=float(read_latency) + float(timeout), api_kwargs=api_kwargs\n",
      "  File \"/usr/local/lib/python3.7/dist-packages/telegram/bot.py\", line 245, in _post\n",
      "    return self.request.post(f'{self.base_url}/{endpoint}', data=data, timeout=timeout)\n",
      "  File \"/usr/local/lib/python3.7/dist-packages/telegram/utils/request.py\", line 354, in post\n",
      "    **urlopen_kwargs,\n",
      "  File \"/usr/local/lib/python3.7/dist-packages/telegram/utils/request.py\", line 276, in _request_wrapper\n",
      "    raise Conflict(message)\n",
      "telegram.error.Conflict: Conflict: terminated by other getUpdates request; make sure that only one bot instance is running\n",
      "Error while getting Updates: Conflict: terminated by other getUpdates request; make sure that only one bot instance is running\n",
      "No error handlers are registered, logging exception.\n",
      "Traceback (most recent call last):\n",
      "  File \"/usr/local/lib/python3.7/dist-packages/telegram/ext/updater.py\", line 465, in _network_loop_retry\n",
      "    if not action_cb():\n",
      "  File \"/usr/local/lib/python3.7/dist-packages/telegram/ext/updater.py\", line 420, in polling_action_cb\n",
      "    allowed_updates=allowed_updates,\n",
      "  File \"<decorator-gen-147>\", line 2, in get_updates\n",
      "  File \"/usr/local/lib/python3.7/dist-packages/telegram/bot.py\", line 135, in decorator\n",
      "    result = func(*args, **kwargs)\n",
      "  File \"/usr/local/lib/python3.7/dist-packages/telegram/bot.py\", line 2639, in get_updates\n",
      "    'getUpdates', data, timeout=float(read_latency) + float(timeout), api_kwargs=api_kwargs\n",
      "  File \"/usr/local/lib/python3.7/dist-packages/telegram/bot.py\", line 245, in _post\n",
      "    return self.request.post(f'{self.base_url}/{endpoint}', data=data, timeout=timeout)\n",
      "  File \"/usr/local/lib/python3.7/dist-packages/telegram/utils/request.py\", line 354, in post\n",
      "    **urlopen_kwargs,\n",
      "  File \"/usr/local/lib/python3.7/dist-packages/telegram/utils/request.py\", line 276, in _request_wrapper\n",
      "    raise Conflict(message)\n",
      "telegram.error.Conflict: Conflict: terminated by other getUpdates request; make sure that only one bot instance is running\n",
      "Error while getting Updates: Conflict: terminated by other getUpdates request; make sure that only one bot instance is running\n"
     ]
    }
   ],
   "source": [
    "daftar = CommandHandler('join',join)\n",
    "start = CommandHandler('start',start)\n",
    "updater.dispatcher.add_handler(start)\n",
    "updater.dispatcher.add_handler(daftar)\n",
    "\n",
    "updater.start_polling()\n",
    "updater.idle()"
   ]
  },
  {
   "cell_type": "code",
   "execution_count": null,
   "metadata": {},
   "outputs": [],
   "source": [
    "from telegram import Update\n",
    "from telegram.ext import Updater, CommandHandler, CallbackContext\n",
    "user=[]\n",
    "def start(update: Update, context: CallbackContext) -> None:\n",
    "    update.message.reply_text(f'halo, nama saya toby, saya adalah bot ewfs, saya bertugas untuk memberitahukan anda terkait forecasting instance apabila mendekati threshold')\n",
    "    update.message.reply_text(f'kamu dapat bergabung dengan saya, caranya yaitu mengirimkan /join ke saya')\n",
    "    \n",
    "def hello(update: Update, context: CallbackContext) -> None:\n",
    "    update.message.reply_text(f'selamat anda telah terdaftar')\n",
    "    user.append(str(update.effective_user.id))\n",
    "\n",
    "updater = Updater('1647991895:AAGqPjhkOSbsuSdycrLrikffs7kiR2-JTzM')\n",
    "\n",
    "updater.dispatcher.add_handler(CommandHandler('start', start))\n",
    "updater.dispatcher.add_handler(CommandHandler('hello', hello))\n",
    "\n",
    "updater.start_polling()\n",
    "updater.idle()"
   ]
  },
  {
   "cell_type": "code",
   "execution_count": 20,
   "metadata": {},
   "outputs": [
    {
     "name": "stdout",
     "output_type": "stream",
     "text": [
      "[637872858]\n"
     ]
    }
   ],
   "source": [
    "import telebot\n",
    "import random\n",
    "\n",
    "bot = telebot.TeleBot(\"1647991895:AAGqPjhkOSbsuSdycrLrikffs7kiR2-JTzM\")\n",
    "user1 = []\n",
    "hello = ['halo, nama saya toby, saya adalah bot ewfs, saya bertugas untuk memberitahukan anda terkait forecasting instance apabila mendekati threshold','perkenalkan saya toby,saya adalah bot notifikasi untuk memberitahukan info forecasting di EWFS']\n",
    "@bot.message_handler(commands=['start', 'help'])\n",
    "def send_welcome(message):\n",
    "    bot.reply_to(message,random.choice(hello))\n",
    "    bot.reply_to(message,\"ketik /join untuk mendaftar\")\n",
    "\n",
    "    \n",
    "@bot.message_handler(commands=['join', 'help'])\n",
    "def send_welcome(message):\n",
    "    user = message.from_user.id\n",
    "    if user in user1:\n",
    "        bot.reply_to(message, \"kamu sudah terdaftar\")\n",
    "    else:\n",
    "        bot.reply_to(message, \"terimakasih telah mendaftar\")\n",
    "        user1.append(user)\n",
    "\n",
    "@bot.message_handler(func=lambda message: True)\n",
    "def echo_all(message):\n",
    "    bot.reply_to(message, message.text)\n",
    "    \n",
    "\n",
    "\n",
    "bot.polling()"
   ]
  },
  {
   "cell_type": "code",
   "execution_count": 82,
   "metadata": {},
   "outputs": [],
   "source": [
    "import telebot\n",
    "import random\n",
    "import pandas as pd\n",
    "import matplotlib.pyplot as plt\n",
    "import matplotlib\n",
    "file1 = open(\"user.txt\",\"r+\")  \n",
    "lines = file1.read().split(',')\n",
    "lines=[x for x in lines if x != '']\n",
    "\n",
    "bot = telebot.TeleBot(\"1647991895:AAGqPjhkOSbsuSdycrLrikffs7kiR2-JTzM\")\n",
    "for i in range(len(lines)):\n",
    "    bot.send_message(lines[i], 'warning,sistem'+ m[1] +'diprediksi mencapai'+)"
   ]
  },
  {
   "cell_type": "code",
   "execution_count": 64,
   "metadata": {},
   "outputs": [
    {
     "ename": "AttributeError",
     "evalue": "'numpy.float64' object has no attribute 'plot'",
     "output_type": "error",
     "traceback": [
      "\u001b[0;31m---------------------------------------------------------------------------\u001b[0m",
      "\u001b[0;31mAttributeError\u001b[0m                            Traceback (most recent call last)",
      "\u001b[0;32m<ipython-input-64-d64ee626538c>\u001b[0m in \u001b[0;36m<module>\u001b[0;34m\u001b[0m\n\u001b[1;32m     16\u001b[0m ]\n\u001b[1;32m     17\u001b[0m \u001b[0mfig\u001b[0m\u001b[0;34m,\u001b[0m \u001b[0max\u001b[0m \u001b[0;34m=\u001b[0m \u001b[0mplt\u001b[0m\u001b[0;34m.\u001b[0m\u001b[0msubplots\u001b[0m\u001b[0;34m(\u001b[0m\u001b[0;34m)\u001b[0m\u001b[0;34m\u001b[0m\u001b[0;34m\u001b[0m\u001b[0m\n\u001b[0;32m---> 18\u001b[0;31m \u001b[0mdf\u001b[0m\u001b[0;34m.\u001b[0m\u001b[0mplot\u001b[0m\u001b[0;34m(\u001b[0m\u001b[0mmarker\u001b[0m\u001b[0;34m=\u001b[0m\u001b[0;34m'o'\u001b[0m\u001b[0;34m,\u001b[0m \u001b[0mcolor\u001b[0m\u001b[0;34m=\u001b[0m\u001b[0mcolors\u001b[0m\u001b[0;34m,\u001b[0m \u001b[0max\u001b[0m\u001b[0;34m=\u001b[0m\u001b[0max\u001b[0m\u001b[0;34m)\u001b[0m\u001b[0;34m\u001b[0m\u001b[0;34m\u001b[0m\u001b[0m\n\u001b[0m\u001b[1;32m     19\u001b[0m \u001b[0;31m# Redraw the data with low alpha and slighty increased linewidth:\u001b[0m\u001b[0;34m\u001b[0m\u001b[0;34m\u001b[0m\u001b[0;34m\u001b[0m\u001b[0m\n\u001b[1;32m     20\u001b[0m \u001b[0mn_shades\u001b[0m \u001b[0;34m=\u001b[0m \u001b[0;36m10\u001b[0m\u001b[0;34m\u001b[0m\u001b[0;34m\u001b[0m\u001b[0m\n",
      "\u001b[0;31mAttributeError\u001b[0m: 'numpy.float64' object has no attribute 'plot'"
     ]
    }
   ],
   "source": [
    "\n",
    "matplotlib.use('Agg')\n",
    "plt.ioff()\n",
    "plt.style.use(\"dark_background\")\n",
    "for param in ['text.color', 'axes.labelcolor', 'xtick.color', 'ytick.color']:\n",
    "    plt.rcParams[param] = '0.9'  # very light grey\n",
    "for param in ['figure.facecolor', 'axes.facecolor', 'savefig.facecolor']:\n",
    "    plt.rcParams[param] = '#212946'  # bluish dark grey\n",
    "colors = [\n",
    "    '#08F7FE',  # teal/cyan\n",
    "    '#FE53BB',  # pink\n",
    "    '#F5D300',  # yellow\n",
    "    '#00ff41',  # matrix green\n",
    "]\n",
    "fig, ax = plt.subplots()\n",
    "df.plot(marker='o', color=colors, ax=ax)\n",
    "# Redraw the data with low alpha and slighty increased linewidth:\n",
    "n_shades = 10\n",
    "diff_linewidth = 1.05\n",
    "alpha_value = 0.3 / n_shades\n",
    "for n in range(1, n_shades+1):\n",
    "    df.plot(marker='o',\n",
    "            linewidth=2+(diff_linewidth*n),\n",
    "            alpha=alpha_value,\n",
    "            legend=False,\n",
    "            ax=ax,\n",
    "            color=colors)\n",
    "# Color the areas below the lines:\n",
    "for column, color in zip(df, colors):\n",
    "    ax.fill_between(x=df.index,\n",
    "                    y1=df.values,\n",
    "                    color=color,\n",
    "                    alpha=0.1)\n",
    "ax.grid(color='#2A3459')\n",
    "ax.set_xlim([ax.get_xlim()[0] - 0.2, ax.get_xlim()[1] + 0.2])  # to not have the markers cut off\n",
    "ax.set_ylim(0)\n",
    "plt.title('prediction')\n",
    "plt.ylabel('%')\n",
    "plt.savefig('harga.png')"
   ]
  },
  {
   "cell_type": "code",
   "execution_count": 48,
   "metadata": {},
   "outputs": [],
   "source": [
    "from analis import all_data, m"
   ]
  },
  {
   "cell_type": "code",
   "execution_count": 49,
   "metadata": {},
   "outputs": [
    {
     "data": {
      "text/plain": [
       "['Emas1', 'SCM', 'ERM', 'MUF', 'AML', 'MANDIRI ONLINE']"
      ]
     },
     "execution_count": 49,
     "metadata": {},
     "output_type": "execute_result"
    }
   ],
   "source": [
    "df=all_data[0][11]\n",
    "m"
   ]
  },
  {
   "cell_type": "code",
   "execution_count": 68,
   "metadata": {},
   "outputs": [],
   "source": [
    "import numpy as np\n",
    "import pandas as pd"
   ]
  },
  {
   "cell_type": "code",
   "execution_count": 51,
   "metadata": {},
   "outputs": [],
   "source": [
    "from analis import data_all\n",
    "from analis import instances"
   ]
  },
  {
   "cell_type": "code",
   "execution_count": 62,
   "metadata": {},
   "outputs": [
    {
     "name": "stdout",
     "output_type": "stream",
     "text": [
      "Emas1\n",
      "SCM\n",
      "ERM\n",
      "MUF\n",
      "AML\n",
      "MANDIRI ONLINE\n"
     ]
    }
   ],
   "source": [
    "il=[]\n",
    "for i in range(len(m)):\n",
    "    print(all_data[i][7])\n",
    "    if all_data[i][7].lower() == 'emas1':\n",
    "        per=all_data[i][8]\n",
    "        if per >= 80:\n",
    "            if il != per:\n",
    "                df=all_data[i][11]\n",
    "                il.extend(per)"
   ]
  },
  {
   "cell_type": "code",
   "execution_count": 63,
   "metadata": {},
   "outputs": [],
   "source": [
    "ex = [0]\n",
    "for i in range(len(m)):\n",
    "    if all_data[i][7].lower() in ['scm','erm','aml','muf','mandiri online']:\n",
    "        ex.extend(all_data[i][8])\n",
    "exadata = (round(sum(ex),2)/48020)*100\n",
    "if exadata >= 80:\n",
    "    df=max(ex)\n"
   ]
  },
  {
   "cell_type": "code",
   "execution_count": 71,
   "metadata": {},
   "outputs": [],
   "source": [
    "p=np.where(ex == max(ex))"
   ]
  },
  {
   "cell_type": "code",
   "execution_count": 38,
   "metadata": {},
   "outputs": [],
   "source": [
    "a=[]\n",
    "a1=['AML', 'ERM', 'Emas1', 'MANDIRI ONLINE', 'MUF', 'SCM','Emas2']"
   ]
  },
  {
   "cell_type": "code",
   "execution_count": 76,
   "metadata": {},
   "outputs": [],
   "source": [
    "res = str(''.join(map(str, p))) "
   ]
  },
  {
   "cell_type": "code",
   "execution_count": 79,
   "metadata": {},
   "outputs": [
    {
     "ename": "ValueError",
     "evalue": "could not convert string to float: '[4]'",
     "output_type": "error",
     "traceback": [
      "\u001b[0;31m---------------------------------------------------------------------------\u001b[0m",
      "\u001b[0;31mValueError\u001b[0m                                Traceback (most recent call last)",
      "\u001b[0;32m<ipython-input-79-5e4b1ae9bee6>\u001b[0m in \u001b[0;36m<module>\u001b[0;34m\u001b[0m\n\u001b[0;32m----> 1\u001b[0;31m \u001b[0mint\u001b[0m\u001b[0;34m(\u001b[0m\u001b[0mfloat\u001b[0m\u001b[0;34m(\u001b[0m\u001b[0mres\u001b[0m\u001b[0;34m)\u001b[0m\u001b[0;34m)\u001b[0m\u001b[0;34m\u001b[0m\u001b[0;34m\u001b[0m\u001b[0m\n\u001b[0m",
      "\u001b[0;31mValueError\u001b[0m: could not convert string to float: '[4]'"
     ]
    }
   ],
   "source": [
    "int(float(res))"
   ]
  },
  {
   "cell_type": "code",
   "execution_count": 14,
   "metadata": {},
   "outputs": [],
   "source": [
    "c=list(set(a1) - set(a))"
   ]
  },
  {
   "cell_type": "code",
   "execution_count": 39,
   "metadata": {},
   "outputs": [
    {
     "name": "stdout",
     "output_type": "stream",
     "text": [
      "a\n"
     ]
    }
   ],
   "source": [
    "if not a:\n",
    "    print('a')"
   ]
  },
  {
   "cell_type": "code",
   "execution_count": 35,
   "metadata": {},
   "outputs": [],
   "source": [
    "a=a + list(set(a1) - set(a))"
   ]
  },
  {
   "cell_type": "code",
   "execution_count": 74,
   "metadata": {},
   "outputs": [],
   "source": [
    "a=a1"
   ]
  },
  {
   "cell_type": "code",
   "execution_count": 21,
   "metadata": {},
   "outputs": [],
   "source": [
    "comparison = c == a1 "
   ]
  }
 ],
 "metadata": {
  "kernelspec": {
   "display_name": "Python 3",
   "language": "python",
   "name": "python3"
  },
  "language_info": {
   "codemirror_mode": {
    "name": "ipython",
    "version": 3
   },
   "file_extension": ".py",
   "mimetype": "text/x-python",
   "name": "python",
   "nbconvert_exporter": "python",
   "pygments_lexer": "ipython3",
   "version": "3.7.3"
  }
 },
 "nbformat": 4,
 "nbformat_minor": 4
}
